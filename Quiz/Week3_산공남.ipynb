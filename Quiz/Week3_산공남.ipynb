{
 "cells": [
  {
   "cell_type": "code",
   "execution_count": 1,
   "metadata": {},
   "outputs": [],
   "source": [
    "import numpy as np"
   ]
  },
  {
   "cell_type": "markdown",
   "metadata": {},
   "source": [
    "### Q1. 본격적으로 Numpy와 친해지기 위해서 다양한 연산을 연습해볼 예정입니다. 무작위의 데이터를 가 진 5x3의 행렬을 가지는 numpy array와 3x2 행렬을 가지는 numpy array를 만든 후 행열곱 연산을 진행해보세요. "
   ]
  },
  {
   "cell_type": "code",
   "execution_count": 4,
   "metadata": {},
   "outputs": [
    {
     "name": "stdout",
     "output_type": "stream",
     "text": [
      "5x3 행렬: \n",
      " [[0.35001328 0.26673243 0.93569867]\n",
      " [0.75139664 0.08588231 0.29198283]\n",
      " [0.37471191 0.22980044 0.10835559]\n",
      " [0.53621602 0.44841825 0.83990196]\n",
      " [0.74515567 0.10439957 0.95146714]]\n",
      "3x2 행렬: \n",
      " [[0.54671035 0.38579501]\n",
      " [0.42964183 0.01494534]\n",
      " [0.44934965 0.09106604]]\n",
      "행렬곱 연산: \n",
      " [[0.72641115 0.22423016]\n",
      " [0.57889733 0.31775834]\n",
      " [0.3522803  0.15786395]\n",
      " [0.86322373 0.29005778]\n",
      " [0.87978016 0.37568397]]\n"
     ]
    }
   ],
   "source": [
    "arr1 = np.random.rand(5, 3)\n",
    "arr2 = np.random.rand(3, 2)\n",
    "\n",
    "dot = arr1 @ arr2\n",
    "\n",
    "print('5x3 행렬: \\n', arr1)\n",
    "print('3x2 행렬: \\n', arr2)\n",
    "print('행렬곱 연산: \\n', dot)"
   ]
  },
  {
   "cell_type": "markdown",
   "metadata": {},
   "source": [
    "### Q2. 두번째로는 numpy에서 자주 사용하는 concatenate 연산에 대한 미션을 수행해보겠습니다. 이제 Numpy에서 사용하는 2개의 numpy array가 있을때, 두 numpy array의 concatenate 연산을 구해보세요.  "
   ]
  },
  {
   "cell_type": "code",
   "execution_count": 5,
   "metadata": {},
   "outputs": [
    {
     "name": "stdout",
     "output_type": "stream",
     "text": [
      "axis=0 기준 concat: \n",
      " [[ 5.  7.]\n",
      " [ 9. 11.]\n",
      " [ 2.  4.]\n",
      " [ 6.  8.]]\n",
      "axis=1 기준 concat: \n",
      " [[ 5.  7.  2.  4.]\n",
      " [ 9. 11.  6.  8.]]\n"
     ]
    }
   ],
   "source": [
    "arr1 = np.array([[5, 7],\n",
    "                [9, 11]], float)\n",
    "\n",
    "arr2 = np.array([[2, 4],\n",
    "                [6, 8]], float)\n",
    "\n",
    "concat_1 = np.concatenate((arr1, arr2), axis=0)\n",
    "concat_2 = np.concatenate((arr1, arr2), axis=1)\n",
    "\n",
    "print('axis=0 기준 concat: \\n', concat_1)\n",
    "print('axis=1 기준 concat: \\n', concat_2)"
   ]
  },
  {
   "cell_type": "markdown",
   "metadata": {},
   "source": [
    "### Q3. 3번부터 5번까지의 미션는 Numpy를 이용해서 정답값을 예측해보는 linear regression을 구현해 보는 미션입니다. 첫번째 단계로 데이터를 준비해보도록 하겠습니다. 아래와 같이 데이터가 주어져있을 때, 경사하강법을 위한 데이터를 분리해보세요."
   ]
  },
  {
   "cell_type": "code",
   "execution_count": 9,
   "metadata": {},
   "outputs": [
    {
     "name": "stdout",
     "output_type": "stream",
     "text": [
      "[1. 2. 3. 4. 5. 6.] (6,)\n",
      "[10. 20. 30. 40. 50. 60.] (6,)\n"
     ]
    }
   ],
   "source": [
    "xy = (np.array([[1., 2., 3., 4., 5., 6.], [10., 20., 30., 40., 50., 60.]]))\n",
    "\n",
    "x_train = xy[0]\n",
    "y_train = xy[1]\n",
    "\n",
    "print(x_train, x_train.shape)\n",
    "print(y_train, y_train.shape)"
   ]
  },
  {
   "cell_type": "markdown",
   "metadata": {},
   "source": [
    "### Q4. 경사 하강법 구현을 위해서 위에서 분리한 x_train 데이터와 계산될 weight, bias 값을 정의해보세요. 여기서 구현한 weight와 bias 는 linear regression 계산을 진행할시 직선의 기울기와 y 절편의 값이 됩니다."
   ]
  },
  {
   "cell_type": "code",
   "execution_count": 12,
   "metadata": {},
   "outputs": [
    {
     "name": "stdout",
     "output_type": "stream",
     "text": [
      "[0.84625423] [0.73427202]\n"
     ]
    }
   ],
   "source": [
    "beta_gd = np.random.rand(1)\n",
    "bias = np.random.rand(1)\n",
    "\n",
    "print(beta_gd, bias)"
   ]
  },
  {
   "cell_type": "markdown",
   "metadata": {},
   "source": [
    "### Q5. 이제 최종적으로 linear regression을 경사하강법으로 학습하는 코드를 구현해봅시다. 경사하강법 구현을 위한 학습 Loop를 구현해보세요. 최종적으로 1000회 반복했을 시에 결과를 출력하세요."
   ]
  },
  {
   "cell_type": "markdown",
   "metadata": {},
   "source": [
    "#### 단, Error는 차이의 제곱을 이용해서 계산해주세요.\n",
    "#### Gradient 값은 우리가 예측하는 각 변수에 대한 미분값입니다."
   ]
  },
  {
   "cell_type": "code",
   "execution_count": 20,
   "metadata": {},
   "outputs": [
    {
     "name": "stdout",
     "output_type": "stream",
     "text": [
      "Epoch (         0/1000) error : 1211.482575, beta_gd:   3.646669, bias:   1.174078\n",
      "Epoch (       100/1000) error :   0.592752, beta_gd:   9.591540, bias:   1.748699\n",
      "Epoch (       200/1000) error :   0.285303, beta_gd:   9.716622, bias:   1.213199\n",
      "Epoch (       300/1000) error :   0.137322, beta_gd:   9.803400, bias:   0.841684\n",
      "Epoch (       400/1000) error :   0.066096, beta_gd:   9.863604, bias:   0.583937\n",
      "Epoch (       500/1000) error :   0.031813, beta_gd:   9.905372, bias:   0.405119\n",
      "Epoch (       600/1000) error :   0.015312, beta_gd:   9.934350, bias:   0.281061\n",
      "Epoch (       700/1000) error :   0.007370, beta_gd:   9.954454, bias:   0.194992\n",
      "Epoch (       800/1000) error :   0.003547, beta_gd:   9.968401, bias:   0.135280\n",
      "Epoch (       900/1000) error :   0.001707, beta_gd:   9.978078, bias:   0.093854\n"
     ]
    }
   ],
   "source": [
    "xy = (np.array([[1., 2., 3., 4., 5., 6.], [10., 20., 30., 40., 50., 60.]]))\n",
    "\n",
    "x_train = xy[0]\n",
    "y_train = xy[1]\n",
    "\n",
    "beta_gd = np.random.rand(1)\n",
    "bias = np.random.rand(1)\n",
    "\n",
    "learning_rate = 0.01\n",
    "\n",
    "for i in range(1000):\n",
    "    y_pred = (beta_gd * x_train) + (bias)\n",
    "    error = ((y_train - y_pred)**2).mean()\n",
    "    \n",
    "    beta_diff = ((y_pred - y_train) * 2 * x_train).mean()\n",
    "    bias_diff = ((y_pred - y_train) * 2).mean()\n",
    "    \n",
    "    beta_gd = beta_gd - (learning_rate * beta_diff)\n",
    "    bias = bias - (learning_rate * bias_diff)\n",
    "    \n",
    "    if i % 100 == 0:\n",
    "        print('Epoch ({:10d}/1000) error : {:10f}, beta_gd: {:10f}, bias: {:10f}'.format(i, error, beta_gd.item(), bias.item()))"
   ]
  }
 ],
 "metadata": {
  "kernelspec": {
   "display_name": "Python 3",
   "language": "python",
   "name": "python3"
  },
  "language_info": {
   "codemirror_mode": {
    "name": "ipython",
    "version": 3
   },
   "file_extension": ".py",
   "mimetype": "text/x-python",
   "name": "python",
   "nbconvert_exporter": "python",
   "pygments_lexer": "ipython3",
   "version": "3.8.5"
  }
 },
 "nbformat": 4,
 "nbformat_minor": 4
}
