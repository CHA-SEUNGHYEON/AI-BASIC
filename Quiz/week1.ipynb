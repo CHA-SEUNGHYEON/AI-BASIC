{
 "cells": [
  {
   "cell_type": "markdown",
   "metadata": {},
   "source": [
    "# Q1. 파이썬에서는 리스트 형태의 데이터를 자주 사용합니다. 그래서 리스트를 잘 다루는 것이 중요한데, 다음으로 주어진 리스트 데이터를 다뤄봅시다."
   ]
  },
  {
   "cell_type": "code",
   "execution_count": 1,
   "metadata": {},
   "outputs": [
    {
     "name": "stdout",
     "output_type": "stream",
     "text": [
      "[1, 5, 7, 15, 22, 29]\n"
     ]
    }
   ],
   "source": [
    "num_list = [1, 5, 7, 15, 16, 22, 28, 29]\n",
    "\n",
    "def get_odd_num(num_list):\n",
    "    \n",
    "    for number in num_list:\n",
    "        if number % 2 != 0:\n",
    "            continue\n",
    "        else:\n",
    "            num_list.remove(number)\n",
    "    return num_list\n",
    "    \n",
    "print(get_odd_num(num_list))"
   ]
  },
  {
   "cell_type": "markdown",
   "metadata": {},
   "source": [
    "# Q2. 데이터 처리를 위해서 문자열을 입력받았습니다. 그런데, 문자열을 받았더니 단어 단위로 거꾸로 입력되었습니다. 이를 다시 원래대로 출력하는 함수 를 작성해보세요."
   ]
  },
  {
   "cell_type": "code",
   "execution_count": 2,
   "metadata": {},
   "outputs": [
    {
     "name": "stdout",
     "output_type": "stream",
     "text": [
      "Where there is a will there is a way\n"
     ]
    }
   ],
   "source": [
    "sentence = \"way a is there will a is there Where\"\n",
    "\n",
    "def reverse_sentence(sentence):\n",
    "    sentence_word_lst = sentence.split()\n",
    "    return (' '.join(reversed(sentence_word_lst)))\n",
    "\n",
    "print(reverse_sentence(sentence))"
   ]
  },
  {
   "cell_type": "markdown",
   "metadata": {},
   "source": [
    "# Q3. 이번 학기의 중간고사, 기말고사 점수가 발표되었습니다. 각 학생들의 점수가 튜플 형태로 저장되어 있고, 이를 포함한 리스트가 있습니다. 이를 이용해 각 학생들의 평균 점수를 출력하는 함수를 제작하세요."
   ]
  },
  {
   "cell_type": "code",
   "execution_count": 3,
   "metadata": {},
   "outputs": [
    {
     "name": "stdout",
     "output_type": "stream",
     "text": [
      "1 번  평균 :  100.0\n",
      "2 번  평균 :  92.5\n",
      "3 번  평균 :  57.5\n",
      "4 번  평균 :  77.5\n",
      "5 번  평균 :  70.0\n"
     ]
    }
   ],
   "source": [
    "score = [(100, 100), (95, 90), (55, 60), (75, 80), (70, 70)]\n",
    "\n",
    "def get_avg(score):\n",
    "    lst = []\n",
    "    for first in range(len(score)):\n",
    "        for second in range(len(score[first])):\n",
    "            lst.append(score[first][second])\n",
    "            if len(lst) >= 2:\n",
    "                print(first+1, '번  평균 : ', (lst[0]+lst[1]) / 2)\n",
    "                lst = []\n",
    "    \n",
    "\n",
    "get_avg(score)"
   ]
  },
  {
   "cell_type": "markdown",
   "metadata": {},
   "source": [
    "# Q4. 두개의 납품처에서 각각 과일과 야채들이 납품되었습니다. 이를 각각 물품의 갯수를 나타내는 2개의 딕셔너리로 정리했습니다. 물품을 정리하기 위해서 2 개의 딕셔너리 객체를 합쳐 출력하는 함수를 제작하세요."
   ]
  },
  {
   "cell_type": "code",
   "execution_count": 4,
   "metadata": {},
   "outputs": [
    {
     "ename": "SyntaxError",
     "evalue": "unexpected EOF while parsing (<ipython-input-4-e32803fdf767>, line 5)",
     "output_type": "error",
     "traceback": [
      "\u001b[1;36m  File \u001b[1;32m\"<ipython-input-4-e32803fdf767>\"\u001b[1;36m, line \u001b[1;32m5\u001b[0m\n\u001b[1;33m    \u001b[0m\n\u001b[1;37m    ^\u001b[0m\n\u001b[1;31mSyntaxError\u001b[0m\u001b[1;31m:\u001b[0m unexpected EOF while parsing\n"
     ]
    }
   ],
   "source": [
    "dict_first = {'사과': 30, '배': 15, '감': 10, '포도': 10}\n",
    "dict_second = {'사과':5, '감':25, '배':15, '귤': 25}\n",
    "\n",
    "def merge_dict(dict_first, dict_second):\n",
    "    "
   ]
  },
  {
   "cell_type": "markdown",
   "metadata": {},
   "source": [
    "# Q5. 단어들을 입력받았는데, 자꾸만 숫자들이 섞여들어가는 문제가 있습니다. 이를 처리하기 위해서 함수에 string을 전달 받은 뒤, string 안에서의 숫자를 제거한 후 string만 남은 리스트를 출력하세요. "
   ]
  },
  {
   "cell_type": "code",
   "execution_count": 18,
   "metadata": {},
   "outputs": [
    {
     "name": "stdout",
     "output_type": "stream",
     "text": [
      "['cat', 'dog', 'cow']\n"
     ]
    }
   ],
   "source": [
    "inputs = 'cat32dog16cow5'\n",
    "\n",
    "def find_string(inputs):\n",
    "    lst = ['1', '2', '3', '4', '5', '6', '7', '8', '9', '0']\n",
    "    \n",
    "    for num in range(len(lst)):\n",
    "        inputs = inputs.replace(lst[num], ' ')\n",
    "    inputs = inputs.split(' ')\n",
    "    string_list = list(filter(None, inputs))\n",
    "    \n",
    "    return string_list\n",
    "    \n",
    "string_list = find_string(inputs)\n",
    "print(string_list)"
   ]
  }
 ],
 "metadata": {
  "kernelspec": {
   "display_name": "Python 3",
   "language": "python",
   "name": "python3"
  },
  "language_info": {
   "codemirror_mode": {
    "name": "ipython",
    "version": 3
   },
   "file_extension": ".py",
   "mimetype": "text/x-python",
   "name": "python",
   "nbconvert_exporter": "python",
   "pygments_lexer": "ipython3",
   "version": "3.8.5"
  }
 },
 "nbformat": 4,
 "nbformat_minor": 4
}
