{
 "cells": [
  {
   "cell_type": "code",
   "execution_count": 10,
   "metadata": {},
   "outputs": [
    {
     "name": "stdout",
     "output_type": "stream",
     "text": [
      "[1, 5, 7, 15, 22, 29]\n"
     ]
    }
   ],
   "source": [
    "num_list = [1, 5, 7, 15, 16, 22, 28, 29]\n",
    "\n",
    "def get_odd_num(num_list):\n",
    "    \n",
    "    for number in num_list:\n",
    "        if number % 2 != 0:\n",
    "            continue\n",
    "        else:\n",
    "            num_list.remove(number)\n",
    "    return num_list\n",
    "    \n",
    "print(get_odd_num(num_list))"
   ]
  }
 ],
 "metadata": {
  "kernelspec": {
   "display_name": "Python 3",
   "language": "python",
   "name": "python3"
  },
  "language_info": {
   "codemirror_mode": {
    "name": "ipython",
    "version": 3
   },
   "file_extension": ".py",
   "mimetype": "text/x-python",
   "name": "python",
   "nbconvert_exporter": "python",
   "pygments_lexer": "ipython3",
   "version": "3.8.5"
  }
 },
 "nbformat": 4,
 "nbformat_minor": 4
}
